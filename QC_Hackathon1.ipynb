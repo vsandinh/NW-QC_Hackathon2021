{
  "nbformat": 4,
  "nbformat_minor": 0,
  "metadata": {
    "colab": {
      "name": "QC-Hackathon1.ipynb",
      "provenance": []
    },
    "kernelspec": {
      "name": "python3",
      "display_name": "Python 3"
    }
  },
  "cells": [
    {
      "cell_type": "code",
      "metadata": {
        "id": "zHkfsj1Aw2e1"
      },
      "source": [
        "!pip install qiskit"
      ],
      "execution_count": null,
      "outputs": []
    },
    {
      "cell_type": "code",
      "metadata": {
        "id": "vbwiPwKQr22k",
        "colab": {
          "resources": {
            "http://localhost:8080/nbextensions/google.colab/files.js": {
              "data": "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",
              "ok": true,
              "headers": [
                [
                  "content-type",
                  "application/javascript"
                ]
              ],
              "status": 200,
              "status_text": "OK"
            }
          },
          "base_uri": "https://localhost:8080/",
          "height": 78
        },
        "outputId": "9c396112-e149-4a58-ab40-8cd196cb5acb"
      },
      "source": [
        "from google.colab import files\n",
        "uploaded = files.upload()"
      ],
      "execution_count": 2,
      "outputs": [
        {
          "output_type": "display_data",
          "data": {
            "text/html": [
              "\n",
              "     <input type=\"file\" id=\"files-5b4620f9-d10a-4778-9418-348cedd5d5bc\" name=\"files[]\" multiple disabled\n",
              "        style=\"border:none\" />\n",
              "     <output id=\"result-5b4620f9-d10a-4778-9418-348cedd5d5bc\">\n",
              "      Upload widget is only available when the cell has been executed in the\n",
              "      current browser session. Please rerun this cell to enable.\n",
              "      </output>\n",
              "      <script src=\"/nbextensions/google.colab/files.js\"></script> "
            ],
            "text/plain": [
              "<IPython.core.display.HTML object>"
            ]
          },
          "metadata": {
            "tags": []
          }
        },
        {
          "output_type": "stream",
          "text": [
            "Saving data2.csv to data2.csv\n"
          ],
          "name": "stdout"
        }
      ]
    },
    {
      "cell_type": "code",
      "metadata": {
        "id": "9W0vjXxQvEKA"
      },
      "source": [
        "import numpy as np\n",
        "\n",
        "from qiskit import BasicAer\n",
        "from qiskit.aqua import QuantumInstance, aqua_globals\n",
        "from qiskit.aqua.algorithms import VQC\n",
        "from qiskit.aqua.components.optimizers import SPSA\n",
        "from qiskit.circuit.library import TwoLocal, ZZFeatureMap\n",
        "from qiskit.aqua.utils import split_dataset_to_data_and_labels, map_label_to_class_name\n",
        "\n"
      ],
      "execution_count": 3,
      "outputs": []
    },
    {
      "cell_type": "code",
      "metadata": {
        "id": "lG-NXg09hyTm"
      },
      "source": [
        "seed = 10600\n",
        "aqua_globals.random_seed = seed"
      ],
      "execution_count": 4,
      "outputs": []
    },
    {
      "cell_type": "code",
      "metadata": {
        "id": "KphM-mqq3EzW"
      },
      "source": [
        "import io\n",
        "import pandas as pd\n",
        "dat = pd.read_csv(io.BytesIO(uploaded['data2.csv']))"
      ],
      "execution_count": 5,
      "outputs": []
    },
    {
      "cell_type": "code",
      "metadata": {
        "colab": {
          "base_uri": "https://localhost:8080/",
          "height": 1000
        },
        "id": "NFD-7l923Ifn",
        "outputId": "ee55c56a-2284-431b-95fb-38ac32f9ede0"
      },
      "source": [
        "dat"
      ],
      "execution_count": 6,
      "outputs": [
        {
          "output_type": "execute_result",
          "data": {
            "text/html": [
              "<div>\n",
              "<style scoped>\n",
              "    .dataframe tbody tr th:only-of-type {\n",
              "        vertical-align: middle;\n",
              "    }\n",
              "\n",
              "    .dataframe tbody tr th {\n",
              "        vertical-align: top;\n",
              "    }\n",
              "\n",
              "    .dataframe thead th {\n",
              "        text-align: right;\n",
              "    }\n",
              "</style>\n",
              "<table border=\"1\" class=\"dataframe\">\n",
              "  <thead>\n",
              "    <tr style=\"text-align: right;\">\n",
              "      <th></th>\n",
              "      <th>ZIP Code</th>\n",
              "      <th>Case rate(weekly)</th>\n",
              "      <th>Test Rate(weekly)</th>\n",
              "      <th>Safe(1)/Unsafe(0)</th>\n",
              "    </tr>\n",
              "  </thead>\n",
              "  <tbody>\n",
              "    <tr>\n",
              "      <th>0</th>\n",
              "      <td>60608</td>\n",
              "      <td>50</td>\n",
              "      <td>2294</td>\n",
              "      <td>0</td>\n",
              "    </tr>\n",
              "    <tr>\n",
              "      <th>1</th>\n",
              "      <td>60613</td>\n",
              "      <td>48</td>\n",
              "      <td>3195</td>\n",
              "      <td>1</td>\n",
              "    </tr>\n",
              "    <tr>\n",
              "      <th>2</th>\n",
              "      <td>60614</td>\n",
              "      <td>83</td>\n",
              "      <td>4624</td>\n",
              "      <td>0</td>\n",
              "    </tr>\n",
              "    <tr>\n",
              "      <th>3</th>\n",
              "      <td>60617</td>\n",
              "      <td>27</td>\n",
              "      <td>1364</td>\n",
              "      <td>0</td>\n",
              "    </tr>\n",
              "    <tr>\n",
              "      <th>4</th>\n",
              "      <td>60618</td>\n",
              "      <td>72</td>\n",
              "      <td>2140</td>\n",
              "      <td>0</td>\n",
              "    </tr>\n",
              "    <tr>\n",
              "      <th>5</th>\n",
              "      <td>60619</td>\n",
              "      <td>41</td>\n",
              "      <td>1801</td>\n",
              "      <td>0</td>\n",
              "    </tr>\n",
              "    <tr>\n",
              "      <th>6</th>\n",
              "      <td>60622</td>\n",
              "      <td>66</td>\n",
              "      <td>3055</td>\n",
              "      <td>1</td>\n",
              "    </tr>\n",
              "    <tr>\n",
              "      <th>7</th>\n",
              "      <td>60623</td>\n",
              "      <td>45</td>\n",
              "      <td>1478</td>\n",
              "      <td>0</td>\n",
              "    </tr>\n",
              "    <tr>\n",
              "      <th>8</th>\n",
              "      <td>60632</td>\n",
              "      <td>57</td>\n",
              "      <td>1321</td>\n",
              "      <td>0</td>\n",
              "    </tr>\n",
              "    <tr>\n",
              "      <th>9</th>\n",
              "      <td>60633</td>\n",
              "      <td>86</td>\n",
              "      <td>1802</td>\n",
              "      <td>0</td>\n",
              "    </tr>\n",
              "    <tr>\n",
              "      <th>10</th>\n",
              "      <td>60634</td>\n",
              "      <td>114</td>\n",
              "      <td>2025</td>\n",
              "      <td>0</td>\n",
              "    </tr>\n",
              "    <tr>\n",
              "      <th>11</th>\n",
              "      <td>60636</td>\n",
              "      <td>44</td>\n",
              "      <td>1578</td>\n",
              "      <td>0</td>\n",
              "    </tr>\n",
              "    <tr>\n",
              "      <th>12</th>\n",
              "      <td>60638</td>\n",
              "      <td>71</td>\n",
              "      <td>1539</td>\n",
              "      <td>0</td>\n",
              "    </tr>\n",
              "    <tr>\n",
              "      <th>13</th>\n",
              "      <td>60639</td>\n",
              "      <td>102</td>\n",
              "      <td>1695</td>\n",
              "      <td>0</td>\n",
              "    </tr>\n",
              "    <tr>\n",
              "      <th>14</th>\n",
              "      <td>60642</td>\n",
              "      <td>74</td>\n",
              "      <td>2564</td>\n",
              "      <td>0</td>\n",
              "    </tr>\n",
              "    <tr>\n",
              "      <th>15</th>\n",
              "      <td>60643</td>\n",
              "      <td>54</td>\n",
              "      <td>3038</td>\n",
              "      <td>1</td>\n",
              "    </tr>\n",
              "    <tr>\n",
              "      <th>16</th>\n",
              "      <td>60646</td>\n",
              "      <td>118</td>\n",
              "      <td>2694</td>\n",
              "      <td>0</td>\n",
              "    </tr>\n",
              "    <tr>\n",
              "      <th>17</th>\n",
              "      <td>60647</td>\n",
              "      <td>55</td>\n",
              "      <td>2474</td>\n",
              "      <td>0</td>\n",
              "    </tr>\n",
              "    <tr>\n",
              "      <th>18</th>\n",
              "      <td>60653</td>\n",
              "      <td>59</td>\n",
              "      <td>2649</td>\n",
              "      <td>0</td>\n",
              "    </tr>\n",
              "    <tr>\n",
              "      <th>19</th>\n",
              "      <td>60654</td>\n",
              "      <td>89</td>\n",
              "      <td>4118</td>\n",
              "      <td>0</td>\n",
              "    </tr>\n",
              "    <tr>\n",
              "      <th>20</th>\n",
              "      <td>60656</td>\n",
              "      <td>76</td>\n",
              "      <td>1820</td>\n",
              "      <td>0</td>\n",
              "    </tr>\n",
              "    <tr>\n",
              "      <th>21</th>\n",
              "      <td>60659</td>\n",
              "      <td>90</td>\n",
              "      <td>2267</td>\n",
              "      <td>0</td>\n",
              "    </tr>\n",
              "    <tr>\n",
              "      <th>22</th>\n",
              "      <td>60660</td>\n",
              "      <td>30</td>\n",
              "      <td>4900</td>\n",
              "      <td>1</td>\n",
              "    </tr>\n",
              "    <tr>\n",
              "      <th>23</th>\n",
              "      <td>60601</td>\n",
              "      <td>68</td>\n",
              "      <td>3946</td>\n",
              "      <td>1</td>\n",
              "    </tr>\n",
              "    <tr>\n",
              "      <th>24</th>\n",
              "      <td>60606</td>\n",
              "      <td>32</td>\n",
              "      <td>5063</td>\n",
              "      <td>1</td>\n",
              "    </tr>\n",
              "    <tr>\n",
              "      <th>25</th>\n",
              "      <td>60611</td>\n",
              "      <td>62</td>\n",
              "      <td>2578</td>\n",
              "      <td>0</td>\n",
              "    </tr>\n",
              "    <tr>\n",
              "      <th>26</th>\n",
              "      <td>60615</td>\n",
              "      <td>50</td>\n",
              "      <td>4506</td>\n",
              "      <td>1</td>\n",
              "    </tr>\n",
              "    <tr>\n",
              "      <th>27</th>\n",
              "      <td>60621</td>\n",
              "      <td>24</td>\n",
              "      <td>1632</td>\n",
              "      <td>0</td>\n",
              "    </tr>\n",
              "    <tr>\n",
              "      <th>28</th>\n",
              "      <td>60625</td>\n",
              "      <td>69</td>\n",
              "      <td>2794</td>\n",
              "      <td>0</td>\n",
              "    </tr>\n",
              "    <tr>\n",
              "      <th>29</th>\n",
              "      <td>60626</td>\n",
              "      <td>50</td>\n",
              "      <td>6354</td>\n",
              "      <td>1</td>\n",
              "    </tr>\n",
              "    <tr>\n",
              "      <th>30</th>\n",
              "      <td>60640</td>\n",
              "      <td>50</td>\n",
              "      <td>3216</td>\n",
              "      <td>1</td>\n",
              "    </tr>\n",
              "    <tr>\n",
              "      <th>31</th>\n",
              "      <td>60645</td>\n",
              "      <td>71</td>\n",
              "      <td>2656</td>\n",
              "      <td>0</td>\n",
              "    </tr>\n",
              "    <tr>\n",
              "      <th>32</th>\n",
              "      <td>60657</td>\n",
              "      <td>53</td>\n",
              "      <td>2859</td>\n",
              "      <td>0</td>\n",
              "    </tr>\n",
              "    <tr>\n",
              "      <th>33</th>\n",
              "      <td>60602</td>\n",
              "      <td>161</td>\n",
              "      <td>2974</td>\n",
              "      <td>0</td>\n",
              "    </tr>\n",
              "    <tr>\n",
              "      <th>34</th>\n",
              "      <td>60607</td>\n",
              "      <td>68</td>\n",
              "      <td>5089</td>\n",
              "      <td>1</td>\n",
              "    </tr>\n",
              "    <tr>\n",
              "      <th>35</th>\n",
              "      <td>60610</td>\n",
              "      <td>85</td>\n",
              "      <td>3629</td>\n",
              "      <td>0</td>\n",
              "    </tr>\n",
              "    <tr>\n",
              "      <th>36</th>\n",
              "      <td>60630</td>\n",
              "      <td>64</td>\n",
              "      <td>1754</td>\n",
              "      <td>0</td>\n",
              "    </tr>\n",
              "    <tr>\n",
              "      <th>37</th>\n",
              "      <td>60631</td>\n",
              "      <td>71</td>\n",
              "      <td>2956</td>\n",
              "      <td>0</td>\n",
              "    </tr>\n",
              "    <tr>\n",
              "      <th>38</th>\n",
              "      <td>60637</td>\n",
              "      <td>32</td>\n",
              "      <td>8090</td>\n",
              "      <td>1</td>\n",
              "    </tr>\n",
              "    <tr>\n",
              "      <th>39</th>\n",
              "      <td>60641</td>\n",
              "      <td>137</td>\n",
              "      <td>2156</td>\n",
              "      <td>0</td>\n",
              "    </tr>\n",
              "    <tr>\n",
              "      <th>40</th>\n",
              "      <td>60644</td>\n",
              "      <td>61</td>\n",
              "      <td>2228</td>\n",
              "      <td>0</td>\n",
              "    </tr>\n",
              "    <tr>\n",
              "      <th>41</th>\n",
              "      <td>60649</td>\n",
              "      <td>28</td>\n",
              "      <td>2420</td>\n",
              "      <td>0</td>\n",
              "    </tr>\n",
              "    <tr>\n",
              "      <th>42</th>\n",
              "      <td>60651</td>\n",
              "      <td>36</td>\n",
              "      <td>1542</td>\n",
              "      <td>0</td>\n",
              "    </tr>\n",
              "    <tr>\n",
              "      <th>43</th>\n",
              "      <td>60604</td>\n",
              "      <td>128</td>\n",
              "      <td>8184</td>\n",
              "      <td>0</td>\n",
              "    </tr>\n",
              "    <tr>\n",
              "      <th>44</th>\n",
              "      <td>60629</td>\n",
              "      <td>85</td>\n",
              "      <td>1345</td>\n",
              "      <td>0</td>\n",
              "    </tr>\n",
              "    <tr>\n",
              "      <th>45</th>\n",
              "      <td>60655</td>\n",
              "      <td>94</td>\n",
              "      <td>2097</td>\n",
              "      <td>0</td>\n",
              "    </tr>\n",
              "    <tr>\n",
              "      <th>46</th>\n",
              "      <td>60605</td>\n",
              "      <td>76</td>\n",
              "      <td>3190</td>\n",
              "      <td>0</td>\n",
              "    </tr>\n",
              "    <tr>\n",
              "      <th>47</th>\n",
              "      <td>60609</td>\n",
              "      <td>73</td>\n",
              "      <td>1802</td>\n",
              "      <td>0</td>\n",
              "    </tr>\n",
              "    <tr>\n",
              "      <th>48</th>\n",
              "      <td>60612</td>\n",
              "      <td>55</td>\n",
              "      <td>4981</td>\n",
              "      <td>1</td>\n",
              "    </tr>\n",
              "    <tr>\n",
              "      <th>49</th>\n",
              "      <td>60616</td>\n",
              "      <td>55</td>\n",
              "      <td>2334</td>\n",
              "      <td>0</td>\n",
              "    </tr>\n",
              "    <tr>\n",
              "      <th>50</th>\n",
              "      <td>60620</td>\n",
              "      <td>63</td>\n",
              "      <td>2236</td>\n",
              "      <td>0</td>\n",
              "    </tr>\n",
              "    <tr>\n",
              "      <th>51</th>\n",
              "      <td>60624</td>\n",
              "      <td>66</td>\n",
              "      <td>2110</td>\n",
              "      <td>0</td>\n",
              "    </tr>\n",
              "    <tr>\n",
              "      <th>52</th>\n",
              "      <td>60628</td>\n",
              "      <td>69</td>\n",
              "      <td>1760</td>\n",
              "      <td>0</td>\n",
              "    </tr>\n",
              "    <tr>\n",
              "      <th>53</th>\n",
              "      <td>60652</td>\n",
              "      <td>66</td>\n",
              "      <td>1963</td>\n",
              "      <td>0</td>\n",
              "    </tr>\n",
              "    <tr>\n",
              "      <th>54</th>\n",
              "      <td>60661</td>\n",
              "      <td>101</td>\n",
              "      <td>3687</td>\n",
              "      <td>0</td>\n",
              "    </tr>\n",
              "  </tbody>\n",
              "</table>\n",
              "</div>"
            ],
            "text/plain": [
              "    ZIP Code  Case rate(weekly)  Test Rate(weekly)  Safe(1)/Unsafe(0)\n",
              "0      60608                 50               2294                  0\n",
              "1      60613                 48               3195                  1\n",
              "2      60614                 83               4624                  0\n",
              "3      60617                 27               1364                  0\n",
              "4      60618                 72               2140                  0\n",
              "5      60619                 41               1801                  0\n",
              "6      60622                 66               3055                  1\n",
              "7      60623                 45               1478                  0\n",
              "8      60632                 57               1321                  0\n",
              "9      60633                 86               1802                  0\n",
              "10     60634                114               2025                  0\n",
              "11     60636                 44               1578                  0\n",
              "12     60638                 71               1539                  0\n",
              "13     60639                102               1695                  0\n",
              "14     60642                 74               2564                  0\n",
              "15     60643                 54               3038                  1\n",
              "16     60646                118               2694                  0\n",
              "17     60647                 55               2474                  0\n",
              "18     60653                 59               2649                  0\n",
              "19     60654                 89               4118                  0\n",
              "20     60656                 76               1820                  0\n",
              "21     60659                 90               2267                  0\n",
              "22     60660                 30               4900                  1\n",
              "23     60601                 68               3946                  1\n",
              "24     60606                 32               5063                  1\n",
              "25     60611                 62               2578                  0\n",
              "26     60615                 50               4506                  1\n",
              "27     60621                 24               1632                  0\n",
              "28     60625                 69               2794                  0\n",
              "29     60626                 50               6354                  1\n",
              "30     60640                 50               3216                  1\n",
              "31     60645                 71               2656                  0\n",
              "32     60657                 53               2859                  0\n",
              "33     60602                161               2974                  0\n",
              "34     60607                 68               5089                  1\n",
              "35     60610                 85               3629                  0\n",
              "36     60630                 64               1754                  0\n",
              "37     60631                 71               2956                  0\n",
              "38     60637                 32               8090                  1\n",
              "39     60641                137               2156                  0\n",
              "40     60644                 61               2228                  0\n",
              "41     60649                 28               2420                  0\n",
              "42     60651                 36               1542                  0\n",
              "43     60604                128               8184                  0\n",
              "44     60629                 85               1345                  0\n",
              "45     60655                 94               2097                  0\n",
              "46     60605                 76               3190                  0\n",
              "47     60609                 73               1802                  0\n",
              "48     60612                 55               4981                  1\n",
              "49     60616                 55               2334                  0\n",
              "50     60620                 63               2236                  0\n",
              "51     60624                 66               2110                  0\n",
              "52     60628                 69               1760                  0\n",
              "53     60652                 66               1963                  0\n",
              "54     60661                101               3687                  0"
            ]
          },
          "metadata": {
            "tags": []
          },
          "execution_count": 6
        }
      ]
    },
    {
      "cell_type": "code",
      "metadata": {
        "id": "_V6PMiRM867W"
      },
      "source": [
        "safe = []\n",
        "unsafe = []\n",
        "for i in range(len(dat)):\n",
        "    if dat['Safe(1)/Unsafe(0)'].values[i] == 1:\n",
        "        safe.append([dat['Case rate(weekly)'].values[i],dat['Test Rate(weekly)'].values[i]])\n",
        "    else: \n",
        "        unsafe.append([dat['Case rate(weekly)'].values[i],dat['Test Rate(weekly)'].values[i]])"
      ],
      "execution_count": 7,
      "outputs": []
    },
    {
      "cell_type": "code",
      "metadata": {
        "id": "1d-UmT35xjjO"
      },
      "source": [
        "feature_dim = 2\n",
        "training_input = {'safe' : np.array(safe[0:10]), 'unsafe' : np.array(unsafe[0:38])} #change from 40 to 20\n",
        "test_input = {'safe' : np.array(safe[10:-1]), 'unsafe' : np.array(unsafe[38:-1])} #change from 40 to 50\n",
        "class_labels = {'unsafe', 'safe'}"
      ],
      "execution_count": 24,
      "outputs": []
    },
    {
      "cell_type": "code",
      "metadata": {
        "colab": {
          "base_uri": "https://localhost:8080/"
        },
        "id": "s2xw7gkKEizf",
        "outputId": "c3c692e9-03a0-4eae-c5df-1e7528762181"
      },
      "source": [
        "onearr = [1]*len(safe)\n",
        "zeroarr = [0]*len(unsafe)\n",
        "label = np.concatenate((onearr,zeroarr))\n",
        "print(label)"
      ],
      "execution_count": 25,
      "outputs": [
        {
          "output_type": "stream",
          "text": [
            "[1 1 1 1 1 1 1 1 1 1 1 1 0 0 0 0 0 0 0 0 0 0 0 0 0 0 0 0 0 0 0 0 0 0 0 0 0\n",
            " 0 0 0 0 0 0 0 0 0 0 0 0 0 0 0 0 0 0]\n"
          ],
          "name": "stdout"
        }
      ]
    },
    {
      "cell_type": "code",
      "metadata": {
        "colab": {
          "base_uri": "https://localhost:8080/"
        },
        "id": "udraR7YWFHhx",
        "outputId": "e6aa563b-18f3-4743-cfe5-02da816afb22"
      },
      "source": [
        "join = safe + unsafe\n",
        "print(join)"
      ],
      "execution_count": 26,
      "outputs": [
        {
          "output_type": "stream",
          "text": [
            "[[48, 3195], [66, 3055], [54, 3038], [30, 4900], [68, 3946], [32, 5063], [50, 4506], [50, 6354], [50, 3216], [68, 5089], [32, 8090], [55, 4981], [50, 2294], [83, 4624], [27, 1364], [72, 2140], [41, 1801], [45, 1478], [57, 1321], [86, 1802], [114, 2025], [44, 1578], [71, 1539], [102, 1695], [74, 2564], [118, 2694], [55, 2474], [59, 2649], [89, 4118], [76, 1820], [90, 2267], [62, 2578], [24, 1632], [69, 2794], [71, 2656], [53, 2859], [161, 2974], [85, 3629], [64, 1754], [71, 2956], [137, 2156], [61, 2228], [28, 2420], [36, 1542], [128, 8184], [85, 1345], [94, 2097], [76, 3190], [73, 1802], [55, 2334], [63, 2236], [66, 2110], [69, 1760], [66, 1963], [101, 3687]]\n"
          ],
          "name": "stdout"
        }
      ]
    },
    {
      "cell_type": "code",
      "metadata": {
        "id": "ywZD2sm5BDZx"
      },
      "source": [
        "datapoints = [np.array(join),label]"
      ],
      "execution_count": 27,
      "outputs": []
    },
    {
      "cell_type": "code",
      "metadata": {
        "colab": {
          "base_uri": "https://localhost:8080/"
        },
        "id": "AWFP9qZJ2jUu",
        "outputId": "b5ecf16a-520c-43b2-ddac-3fbbda9f6366"
      },
      "source": [
        "feature_map = ZZFeatureMap(feature_dimension=feature_dim, reps=2, entanglement='linear')\n",
        "optimizer = SPSA(maxiter=40, c0=4.0, skip_calibration=True)\n",
        "var_form = TwoLocal(feature_dim, ['ry', 'rz'], 'cz', reps=3)\n",
        "vqc = VQC(optimizer, feature_map, var_form, training_input, test_input, datapoints[0])\n",
        "\n",
        "backend = BasicAer.get_backend('qasm_simulator')\n",
        "quantum_instance = QuantumInstance(backend, shots=1024, seed_simulator=seed, seed_transpiler=seed)\n",
        "\n",
        "result = vqc.run(quantum_instance)\n",
        "\n",
        "print(f'Testing success ratio: {result[\"testing_accuracy\"]}')\n",
        "print()\n",
        "print('Prediction from datapoints set:')\n",
        "print(f'  ground truth: {map_label_to_class_name(datapoints[1], vqc.label_to_class)}')\n",
        "print(f'  prediction:   {result[\"predicted_classes\"]}')\n",
        "predicted_labels = result[\"predicted_labels\"]\n",
        "print(f'  success rate: {100*np.count_nonzero(predicted_labels == datapoints[1])/len(predicted_labels)}%')"
      ],
      "execution_count": 53,
      "outputs": [
        {
          "output_type": "stream",
          "text": [
            "Testing success ratio: 0.6\n",
            "\n",
            "Prediction from datapoints set:\n",
            "  ground truth: ['unsafe', 'unsafe', 'unsafe', 'unsafe', 'unsafe', 'unsafe', 'unsafe', 'unsafe', 'unsafe', 'unsafe', 'unsafe', 'unsafe', 'safe', 'safe', 'safe', 'safe', 'safe', 'safe', 'safe', 'safe', 'safe', 'safe', 'safe', 'safe', 'safe', 'safe', 'safe', 'safe', 'safe', 'safe', 'safe', 'safe', 'safe', 'safe', 'safe', 'safe', 'safe', 'safe', 'safe', 'safe', 'safe', 'safe', 'safe', 'safe', 'safe', 'safe', 'safe', 'safe', 'safe', 'safe', 'safe', 'safe', 'safe', 'safe', 'safe']\n",
            "  prediction:   ['unsafe', 'unsafe', 'safe', 'unsafe', 'safe', 'unsafe', 'unsafe', 'safe', 'unsafe', 'unsafe', 'unsafe', 'unsafe', 'unsafe', 'unsafe', 'unsafe', 'unsafe', 'unsafe', 'unsafe', 'safe', 'safe', 'unsafe', 'unsafe', 'unsafe', 'unsafe', 'unsafe', 'safe', 'unsafe', 'safe', 'unsafe', 'unsafe', 'unsafe', 'unsafe', 'unsafe', 'unsafe', 'safe', 'safe', 'unsafe', 'safe', 'unsafe', 'unsafe', 'unsafe', 'unsafe', 'unsafe', 'safe', 'safe', 'unsafe', 'unsafe', 'unsafe', 'safe', 'safe', 'unsafe', 'unsafe', 'safe', 'unsafe', 'safe']\n",
            "  success rate: 40.0%\n"
          ],
          "name": "stdout"
        }
      ]
    },
    {
      "cell_type": "code",
      "metadata": {
        "id": "ugHD82Yit9Gz"
      },
      "source": [
        "from qiskit.circuit.library import ZFeatureMap"
      ],
      "execution_count": 39,
      "outputs": []
    },
    {
      "cell_type": "code",
      "metadata": {
        "id": "G2YT2zalRYyo",
        "colab": {
          "base_uri": "https://localhost:8080/"
        },
        "outputId": "aff44494-48ad-4f61-c137-5d715163499b"
      },
      "source": [
        "feature_map = ZFeatureMap(feature_dimension=feature_dim, reps=4)\n",
        "optimizer = SPSA(maxiter=40, c0=4.0, skip_calibration=True)\n",
        "var_form = TwoLocal(feature_dim, ['ry', 'rz'], 'cz', reps=3)\n",
        "vqc = VQC(optimizer, feature_map, var_form, training_input, test_input, datapoints[0])\n",
        "\n",
        "backend = BasicAer.get_backend('qasm_simulator')\n",
        "quantum_instance = QuantumInstance(backend, shots=1024, seed_simulator=seed, seed_transpiler=seed)\n",
        "\n",
        "result = vqc.run(quantum_instance)\n",
        "\n",
        "print(f'Testing success ratio: {result[\"testing_accuracy\"]}')\n",
        "print()\n",
        "print('Prediction from datapoints set:')\n",
        "print(f'  ground truth: {map_label_to_class_name(datapoints[1], vqc.label_to_class)}')\n",
        "print(f'  prediction:   {result[\"predicted_classes\"]}')\n",
        "predicted_labels = result[\"predicted_labels\"]\n",
        "print(f'  success rate: {100*np.count_nonzero(predicted_labels == datapoints[1])/len(predicted_labels)}%')"
      ],
      "execution_count": 51,
      "outputs": [
        {
          "output_type": "stream",
          "text": [
            "Testing success ratio: 0.6\n",
            "\n",
            "Prediction from datapoints set:\n",
            "  ground truth: ['unsafe', 'unsafe', 'unsafe', 'unsafe', 'unsafe', 'unsafe', 'unsafe', 'unsafe', 'unsafe', 'unsafe', 'unsafe', 'unsafe', 'safe', 'safe', 'safe', 'safe', 'safe', 'safe', 'safe', 'safe', 'safe', 'safe', 'safe', 'safe', 'safe', 'safe', 'safe', 'safe', 'safe', 'safe', 'safe', 'safe', 'safe', 'safe', 'safe', 'safe', 'safe', 'safe', 'safe', 'safe', 'safe', 'safe', 'safe', 'safe', 'safe', 'safe', 'safe', 'safe', 'safe', 'safe', 'safe', 'safe', 'safe', 'safe', 'safe']\n",
            "  prediction:   ['unsafe', 'unsafe', 'unsafe', 'safe', 'unsafe', 'unsafe', 'unsafe', 'unsafe', 'safe', 'unsafe', 'unsafe', 'unsafe', 'unsafe', 'unsafe', 'unsafe', 'unsafe', 'unsafe', 'unsafe', 'unsafe', 'unsafe', 'unsafe', 'unsafe', 'unsafe', 'unsafe', 'unsafe', 'unsafe', 'unsafe', 'unsafe', 'safe', 'unsafe', 'unsafe', 'unsafe', 'unsafe', 'unsafe', 'unsafe', 'unsafe', 'unsafe', 'unsafe', 'unsafe', 'unsafe', 'unsafe', 'unsafe', 'unsafe', 'unsafe', 'unsafe', 'unsafe', 'unsafe', 'unsafe', 'unsafe', 'unsafe', 'safe', 'unsafe', 'unsafe', 'unsafe', 'unsafe']\n",
            "  success rate: 21.818181818181817%\n"
          ],
          "name": "stdout"
        }
      ]
    },
    {
      "cell_type": "code",
      "metadata": {
        "id": "99xjenqgwj3T"
      },
      "source": [
        "from qiskit.circuit.library import PauliFeatureMap"
      ],
      "execution_count": 47,
      "outputs": []
    },
    {
      "cell_type": "code",
      "metadata": {
        "colab": {
          "base_uri": "https://localhost:8080/"
        },
        "id": "SrCau-CLt7H4",
        "outputId": "df8832aa-57c7-4c58-91ef-20e6a5fc6d1c"
      },
      "source": [
        "feature_map = PauliFeatureMap(feature_dimension=feature_dim, reps=3, paulis= ['Z','X','ZY'])\n",
        "optimizer = SPSA(maxiter=40, c0=4.0, skip_calibration=True)\n",
        "var_form = TwoLocal(feature_dim, ['ry', 'rz'], 'cz', reps=3)\n",
        "vqc = VQC(optimizer, feature_map, var_form, training_input, test_input, datapoints[0])\n",
        "\n",
        "backend = BasicAer.get_backend('qasm_simulator')\n",
        "quantum_instance = QuantumInstance(backend, shots=1024, seed_simulator=seed, seed_transpiler=seed)\n",
        "\n",
        "result = vqc.run(quantum_instance)\n",
        "\n",
        "print(f'Testing success ratio: {result[\"testing_accuracy\"]}')\n",
        "print()\n",
        "print('Prediction from datapoints set:')\n",
        "print(f'  ground truth: {map_label_to_class_name(datapoints[1], vqc.label_to_class)}')\n",
        "print(f'  prediction:   {result[\"predicted_classes\"]}')\n",
        "predicted_labels = result[\"predicted_labels\"]\n",
        "print(f'  success rate: {100*np.count_nonzero(predicted_labels == datapoints[1])/len(predicted_labels)}%')"
      ],
      "execution_count": 55,
      "outputs": [
        {
          "output_type": "stream",
          "text": [
            "Testing success ratio: 0.8\n",
            "\n",
            "Prediction from datapoints set:\n",
            "  ground truth: ['unsafe', 'unsafe', 'unsafe', 'unsafe', 'unsafe', 'unsafe', 'unsafe', 'unsafe', 'unsafe', 'unsafe', 'unsafe', 'unsafe', 'safe', 'safe', 'safe', 'safe', 'safe', 'safe', 'safe', 'safe', 'safe', 'safe', 'safe', 'safe', 'safe', 'safe', 'safe', 'safe', 'safe', 'safe', 'safe', 'safe', 'safe', 'safe', 'safe', 'safe', 'safe', 'safe', 'safe', 'safe', 'safe', 'safe', 'safe', 'safe', 'safe', 'safe', 'safe', 'safe', 'safe', 'safe', 'safe', 'safe', 'safe', 'safe', 'safe']\n",
            "  prediction:   ['unsafe', 'unsafe', 'safe', 'safe', 'safe', 'unsafe', 'safe', 'safe', 'safe', 'unsafe', 'unsafe', 'unsafe', 'safe', 'unsafe', 'unsafe', 'safe', 'safe', 'unsafe', 'unsafe', 'unsafe', 'unsafe', 'unsafe', 'safe', 'unsafe', 'unsafe', 'unsafe', 'unsafe', 'unsafe', 'unsafe', 'unsafe', 'unsafe', 'safe', 'unsafe', 'unsafe', 'unsafe', 'safe', 'unsafe', 'unsafe', 'unsafe', 'safe', 'unsafe', 'unsafe', 'unsafe', 'unsafe', 'unsafe', 'unsafe', 'safe', 'unsafe', 'safe', 'safe', 'unsafe', 'unsafe', 'unsafe', 'unsafe', 'safe']\n",
            "  success rate: 30.90909090909091%\n"
          ],
          "name": "stdout"
        }
      ]
    },
    {
      "cell_type": "code",
      "metadata": {
        "id": "i0BPfSCEw1e5"
      },
      "source": [
        ""
      ],
      "execution_count": null,
      "outputs": []
    }
  ]
}